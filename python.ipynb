{
  "nbformat": 4,
  "nbformat_minor": 0,
  "metadata": {
    "colab": {
      "provenance": [],
      "toc_visible": true,
      "authorship_tag": "ABX9TyM31vedkmQVz7l/p2TuALXL",
      "include_colab_link": true
    },
    "kernelspec": {
      "name": "python3",
      "display_name": "Python 3"
    },
    "language_info": {
      "name": "python"
    }
  },
  "cells": [
    {
      "cell_type": "markdown",
      "metadata": {
        "id": "view-in-github",
        "colab_type": "text"
      },
      "source": [
        "<a href=\"https://colab.research.google.com/github/mauAgu/Algoritmo/blob/master/python.ipynb\" target=\"_parent\"><img src=\"https://colab.research.google.com/assets/colab-badge.svg\" alt=\"Open In Colab\"/></a>"
      ]
    },
    {
      "cell_type": "code",
      "execution_count": null,
      "metadata": {
        "id": "sY7ZytsQv30S"
      },
      "outputs": [],
      "source": []
    },
    {
      "cell_type": "markdown",
      "source": [
        "Rebamado o slicing"
      ],
      "metadata": {
        "id": "XZAkQg00v-yG"
      }
    },
    {
      "cell_type": "code",
      "source": [
        "cad = \"Pythom\"\n",
        "cad[1:4]"
      ],
      "metadata": {
        "colab": {
          "base_uri": "https://localhost:8080/",
          "height": 35
        },
        "id": "2L8keBFywGre",
        "outputId": "bdecfd95-cbc8-4301-bcf1-d10b10a70131"
      },
      "execution_count": 1,
      "outputs": [
        {
          "output_type": "execute_result",
          "data": {
            "text/plain": [
              "'yth'"
            ],
            "application/vnd.google.colaboratory.intrinsic+json": {
              "type": "string"
            }
          },
          "metadata": {},
          "execution_count": 1
        }
      ]
    },
    {
      "cell_type": "code",
      "source": [
        "cad[0:3]"
      ],
      "metadata": {
        "colab": {
          "base_uri": "https://localhost:8080/",
          "height": 35
        },
        "id": "kGsdWjQFwnO-",
        "outputId": "3f91a866-fe2b-403e-86c4-093a81aaccad"
      },
      "execution_count": 2,
      "outputs": [
        {
          "output_type": "execute_result",
          "data": {
            "text/plain": [
              "'Pyt'"
            ],
            "application/vnd.google.colaboratory.intrinsic+json": {
              "type": "string"
            }
          },
          "metadata": {},
          "execution_count": 2
        }
      ]
    },
    {
      "cell_type": "code",
      "source": [
        "cad[2:]"
      ],
      "metadata": {
        "colab": {
          "base_uri": "https://localhost:8080/",
          "height": 35
        },
        "id": "ld6HKeXqwuRe",
        "outputId": "5e5d110c-b802-4b6d-db2e-5b594176a206"
      },
      "execution_count": 3,
      "outputs": [
        {
          "output_type": "execute_result",
          "data": {
            "text/plain": [
              "'thom'"
            ],
            "application/vnd.google.colaboratory.intrinsic+json": {
              "type": "string"
            }
          },
          "metadata": {},
          "execution_count": 3
        }
      ]
    },
    {
      "cell_type": "code",
      "source": [
        "cad[:4]"
      ],
      "metadata": {
        "colab": {
          "base_uri": "https://localhost:8080/",
          "height": 35
        },
        "id": "0WUWuUm8xCim",
        "outputId": "89dc32ae-ecfc-47ca-cb4f-c3e89ae4a4dd"
      },
      "execution_count": 4,
      "outputs": [
        {
          "output_type": "execute_result",
          "data": {
            "text/plain": [
              "'Pyth'"
            ],
            "application/vnd.google.colaboratory.intrinsic+json": {
              "type": "string"
            }
          },
          "metadata": {},
          "execution_count": 4
        }
      ]
    },
    {
      "cell_type": "code",
      "source": [
        "cad[:]"
      ],
      "metadata": {
        "colab": {
          "base_uri": "https://localhost:8080/",
          "height": 35
        },
        "id": "n0P0PVU6xJol",
        "outputId": "5f745201-0a5e-47fc-a6eb-666b7d34fbfb"
      },
      "execution_count": 5,
      "outputs": [
        {
          "output_type": "execute_result",
          "data": {
            "text/plain": [
              "'Pythom'"
            ],
            "application/vnd.google.colaboratory.intrinsic+json": {
              "type": "string"
            }
          },
          "metadata": {},
          "execution_count": 5
        }
      ]
    },
    {
      "cell_type": "code",
      "source": [
        "frase = \"*Hola, mundo*\"\n",
        "frase[7:12] # de la posicion 7 a la 11"
      ],
      "metadata": {
        "colab": {
          "base_uri": "https://localhost:8080/",
          "height": 35
        },
        "id": "kUxqHXENxRYN",
        "outputId": "90aa5a86-b0b4-4ddb-f2dc-44c60ff83ef1"
      },
      "execution_count": 6,
      "outputs": [
        {
          "output_type": "execute_result",
          "data": {
            "text/plain": [
              "'mundo'"
            ],
            "application/vnd.google.colaboratory.intrinsic+json": {
              "type": "string"
            }
          },
          "metadata": {},
          "execution_count": 6
        }
      ]
    },
    {
      "cell_type": "code",
      "source": [
        "frase [7:12:2]"
      ],
      "metadata": {
        "colab": {
          "base_uri": "https://localhost:8080/",
          "height": 35
        },
        "id": "020OPGQBxpV1",
        "outputId": "6038c90f-74f9-46ca-f30b-275e7a838809"
      },
      "execution_count": 9,
      "outputs": [
        {
          "output_type": "execute_result",
          "data": {
            "text/plain": [
              "'mno'"
            ],
            "application/vnd.google.colaboratory.intrinsic+json": {
              "type": "string"
            }
          },
          "metadata": {},
          "execution_count": 9
        }
      ]
    },
    {
      "cell_type": "markdown",
      "source": [
        "##**Metodos de cadena de caracteres**"
      ],
      "metadata": {
        "id": "q3yEreOwx-mO"
      }
    },
    {
      "cell_type": "code",
      "source": [
        "c=\"mundo\"\n",
        "c.capitalize() #cambia a mayuscula el primer caracter"
      ],
      "metadata": {
        "colab": {
          "base_uri": "https://localhost:8080/",
          "height": 35
        },
        "id": "ne_oFA8ryFRa",
        "outputId": "3e58d6e0-88a9-4082-eeaf-1d0f44c350a8"
      },
      "execution_count": 11,
      "outputs": [
        {
          "output_type": "execute_result",
          "data": {
            "text/plain": [
              "'Mundo'"
            ],
            "application/vnd.google.colaboratory.intrinsic+json": {
              "type": "string"
            }
          },
          "metadata": {},
          "execution_count": 11
        }
      ]
    },
    {
      "cell_type": "code",
      "source": [
        "c"
      ],
      "metadata": {
        "colab": {
          "base_uri": "https://localhost:8080/",
          "height": 35
        },
        "id": "EfKwCGcHymgu",
        "outputId": "5a453473-e641-419e-b55f-c83574edf6c6"
      },
      "execution_count": 12,
      "outputs": [
        {
          "output_type": "execute_result",
          "data": {
            "text/plain": [
              "'mundo'"
            ],
            "application/vnd.google.colaboratory.intrinsic+json": {
              "type": "string"
            }
          },
          "metadata": {},
          "execution_count": 12
        }
      ]
    },
    {
      "cell_type": "markdown",
      "source": [
        "##**Otros metodos find,index,isalnum,isalpha.isdecimal,isdigit,islower,isupper,lover,upper**"
      ],
      "metadata": {
        "id": "_jSNdfaNyrwq"
      }
    },
    {
      "cell_type": "code",
      "source": [
        "##metodo find\n",
        "s=\"hola mundo\"\n",
        "print(s.find(\"munda\"))"
      ],
      "metadata": {
        "id": "_qIisv1q1Spm",
        "outputId": "65bc9b00-b86f-41e6-9423-fad136e936ec",
        "colab": {
          "base_uri": "https://localhost:8080/"
        }
      },
      "execution_count": 18,
      "outputs": [
        {
          "output_type": "stream",
          "name": "stdout",
          "text": [
            "-1\n"
          ]
        }
      ]
    },
    {
      "cell_type": "code",
      "source": [
        "#metodo find\n",
        "txt = \"Bienvenido al curso de python\"\n",
        "print (txt.index(\"e\",3,6))\n",
        "x=txt.index(\"Bienvenido\")\n",
        "print(x)\n"
      ],
      "metadata": {
        "id": "v462mO_61uwF",
        "outputId": "601fbf29-f617-457c-ced9-659882d2434b",
        "colab": {
          "base_uri": "https://localhost:8080/"
        }
      },
      "execution_count": 21,
      "outputs": [
        {
          "output_type": "stream",
          "name": "stdout",
          "text": [
            "5\n",
            "0\n"
          ]
        }
      ]
    },
    {
      "cell_type": "code",
      "source": [
        "#metodo isalnum\n",
        "#acepta numero y letras\n",
        "texto = \"Hola mundo\"\n",
        "\n",
        "x = texto.isalnum()\n",
        "\n",
        "print(x)"
      ],
      "metadata": {
        "colab": {
          "base_uri": "https://localhost:8080/"
        },
        "id": "2y4Q_gVPyoq1",
        "outputId": "04159ab1-0281-43bd-9d3f-95529d8e6f08"
      },
      "execution_count": 22,
      "outputs": [
        {
          "output_type": "stream",
          "name": "stdout",
          "text": [
            "False\n"
          ]
        }
      ]
    },
    {
      "cell_type": "code",
      "source": [
        "#metodo isalpha\n",
        "#acepta solo letras\n",
        "texto = \"Hola\"\n",
        "\n",
        "x = texto.isalpha()\n",
        "\n",
        "print(x)"
      ],
      "metadata": {
        "id": "nWVY6Lw63ktF",
        "outputId": "afdb3136-e8f0-4af3-d26f-367a1adc3f32",
        "colab": {
          "base_uri": "https://localhost:8080/"
        }
      },
      "execution_count": 25,
      "outputs": [
        {
          "output_type": "stream",
          "name": "stdout",
          "text": [
            "True\n"
          ]
        }
      ]
    },
    {
      "cell_type": "code",
      "source": [
        "#metodo isdecimal\n",
        "#acepta solo numeros\n",
        "texto = \"4569\"\n",
        "\n",
        "x = texto.isdecimal()\n",
        "\n",
        "print(x)"
      ],
      "metadata": {
        "id": "AlEPtjX035PV",
        "outputId": "21a3f15d-d9a3-4875-c185-9e79d0e9a16f",
        "colab": {
          "base_uri": "https://localhost:8080/"
        }
      },
      "execution_count": 30,
      "outputs": [
        {
          "output_type": "stream",
          "name": "stdout",
          "text": [
            "True\n"
          ]
        }
      ]
    },
    {
      "cell_type": "code",
      "source": [
        "#metodo isdigit\n",
        "#detecta que sean numeros y regresa verdadero y falso\n",
        "cadena = \"12345\"\n",
        "\n",
        "x = cadena.isdigit()\n",
        "\n",
        "print(x)"
      ],
      "metadata": {
        "id": "miWtq7sS4Vw1",
        "outputId": "d854cab3-ce8a-45cb-eca3-4ace026a82b6",
        "colab": {
          "base_uri": "https://localhost:8080/"
        }
      },
      "execution_count": 37,
      "outputs": [
        {
          "output_type": "stream",
          "name": "stdout",
          "text": [
            "True\n"
          ]
        }
      ]
    },
    {
      "cell_type": "code",
      "source": [
        "#metodo islower\n",
        "#\n",
        "texto = \"abdc Defg, que tal amigos!!\"\n",
        "\n",
        "texto.islower()\n",
        "\n"
      ],
      "metadata": {
        "id": "VXAe7ybm473d",
        "outputId": "6f20a225-60c0-449e-bb68-06c7efd3332f",
        "colab": {
          "base_uri": "https://localhost:8080/"
        }
      },
      "execution_count": 41,
      "outputs": [
        {
          "output_type": "execute_result",
          "data": {
            "text/plain": [
              "False"
            ]
          },
          "metadata": {},
          "execution_count": 41
        }
      ]
    },
    {
      "cell_type": "code",
      "source": [
        "#metodo islower\n",
        "#devuelve verdadero si todas las letras son mayusculas\n",
        "texto = \"QUE TODOS LOS NINOS ESTEN ATENTOS!!\"\n",
        "\n",
        "texto.isupper()"
      ],
      "metadata": {
        "id": "kpUP85Vj6On9",
        "outputId": "66fb4f89-f317-40ed-fc99-192318d9ab44",
        "colab": {
          "base_uri": "https://localhost:8080/"
        }
      },
      "execution_count": 42,
      "outputs": [
        {
          "output_type": "execute_result",
          "data": {
            "text/plain": [
              "True"
            ]
          },
          "metadata": {},
          "execution_count": 42
        }
      ]
    },
    {
      "cell_type": "code",
      "source": [
        "#metodo upper\n",
        "#convierte de letra minusculas a mayusculas\n",
        "cad = \"javeros\"\n",
        "print (cad.upper())"
      ],
      "metadata": {
        "id": "DNhN1zwP6pU1",
        "outputId": "9be197d2-44a9-4397-9fab-96cb20138b5b",
        "colab": {
          "base_uri": "https://localhost:8080/"
        }
      },
      "execution_count": 45,
      "outputs": [
        {
          "output_type": "stream",
          "name": "stdout",
          "text": [
            "JAVEROS\n"
          ]
        }
      ]
    },
    {
      "cell_type": "markdown",
      "source": [
        "##**Recibiendo datos de usuarios(teclado)**"
      ],
      "metadata": {
        "id": "5rqE7g3j7YV1"
      }
    },
    {
      "cell_type": "code",
      "source": [
        "saludo = input(\"Escribe un saludo \")\n",
        "print(saludo)"
      ],
      "metadata": {
        "id": "rblbjvoR7i85",
        "outputId": "f96a232c-5f9d-4767-f0e6-fb013c4cac0f",
        "colab": {
          "base_uri": "https://localhost:8080/"
        }
      },
      "execution_count": 46,
      "outputs": [
        {
          "output_type": "stream",
          "name": "stdout",
          "text": [
            "Escribe un saludo buenos dias\n",
            "buenos dias\n"
          ]
        }
      ]
    },
    {
      "cell_type": "code",
      "source": [
        "dato = int(input(\"Dar un valor \"))\n",
        "print (\"El valor es: \"+str(dato))"
      ],
      "metadata": {
        "id": "vy_Wujs_752d",
        "outputId": "72ff0a25-55f0-4f0e-a8f4-226d4dd45c2e",
        "colab": {
          "base_uri": "https://localhost:8080/"
        }
      },
      "execution_count": 48,
      "outputs": [
        {
          "output_type": "stream",
          "name": "stdout",
          "text": [
            "Dar un valor 150\n",
            "El valor es: 150\n"
          ]
        }
      ]
    },
    {
      "cell_type": "markdown",
      "source": [
        "#Los operadores aritmeticos siguen las reglas de la precedencia PEMDAS\n",
        "\n",
        "#**PEMDAS -->Parentesis, exponenes, mul, div, suma y resta**\n",
        "\n",
        "\n",
        "\n"
      ],
      "metadata": {
        "id": "esWQLIWu8pzL"
      }
    },
    {
      "cell_type": "code",
      "source": [
        "a = 3\n",
        "b = 2\n",
        "print(\"La suma: \",a+b)"
      ],
      "metadata": {
        "id": "xyRydwcw9HC1",
        "outputId": "efb43a6f-d1a9-44ec-cc32-ea71b31ab5ec",
        "colab": {
          "base_uri": "https://localhost:8080/"
        }
      },
      "execution_count": 49,
      "outputs": [
        {
          "output_type": "stream",
          "name": "stdout",
          "text": [
            "La suma:  5\n"
          ]
        }
      ]
    },
    {
      "cell_type": "code",
      "source": [
        "print(\"Resta: \",a-b, \" \",b-a)"
      ],
      "metadata": {
        "id": "_inf9Z8F9eKT",
        "outputId": "370632bf-85eb-454c-cafb-9736a2bc88cc",
        "colab": {
          "base_uri": "https://localhost:8080/"
        }
      },
      "execution_count": 51,
      "outputs": [
        {
          "output_type": "stream",
          "name": "stdout",
          "text": [
            "Resta:  1   -1\n"
          ]
        }
      ]
    },
    {
      "cell_type": "code",
      "source": [
        "print(\"producto: \",a*b)"
      ],
      "metadata": {
        "id": "c1s2o_By9s0_",
        "outputId": "38c3dbe8-39b4-4f57-af9b-207179d63ca9",
        "colab": {
          "base_uri": "https://localhost:8080/"
        }
      },
      "execution_count": 52,
      "outputs": [
        {
          "output_type": "stream",
          "name": "stdout",
          "text": [
            "producto:  6\n"
          ]
        }
      ]
    },
    {
      "cell_type": "code",
      "source": [
        "print(\"Division: \",a/b, \" \",b/a)"
      ],
      "metadata": {
        "id": "_BUW4YIj90U-",
        "outputId": "14685b5c-3a49-4011-b049-c3cc92490e21",
        "colab": {
          "base_uri": "https://localhost:8080/"
        }
      },
      "execution_count": 54,
      "outputs": [
        {
          "output_type": "stream",
          "name": "stdout",
          "text": [
            "Division:  1.5   0.6666666666666666\n"
          ]
        }
      ]
    },
    {
      "cell_type": "code",
      "source": [
        "print(\"Division entera: \",a//b, \" \",b//a)"
      ],
      "metadata": {
        "id": "gsjQ_ILV93A7",
        "outputId": "df06146a-4612-499a-e8e7-2aeb3a081366",
        "colab": {
          "base_uri": "https://localhost:8080/"
        }
      },
      "execution_count": 55,
      "outputs": [
        {
          "output_type": "stream",
          "name": "stdout",
          "text": [
            "Division entera:  1   0\n"
          ]
        }
      ]
    },
    {
      "cell_type": "code",
      "source": [
        "print(\"Modulo: \",a%b, \" \",b%a)"
      ],
      "metadata": {
        "id": "wcTkZwaV-PYF",
        "outputId": "927e28a7-bf76-427b-e7ec-ee33fc0de498",
        "colab": {
          "base_uri": "https://localhost:8080/"
        }
      },
      "execution_count": 56,
      "outputs": [
        {
          "output_type": "stream",
          "name": "stdout",
          "text": [
            "Modulo:  1   2\n"
          ]
        }
      ]
    },
    {
      "cell_type": "code",
      "source": [
        "print(\"Exponenciacion: \",b**a, \" \",a**b)"
      ],
      "metadata": {
        "id": "r5WN8nhy-ZId",
        "outputId": "301b78cf-5bf7-4cb8-fae9-b847214764a0",
        "colab": {
          "base_uri": "https://localhost:8080/"
        }
      },
      "execution_count": 57,
      "outputs": [
        {
          "output_type": "stream",
          "name": "stdout",
          "text": [
            "Exponenciacion:  8   9\n"
          ]
        }
      ]
    }
  ]
}